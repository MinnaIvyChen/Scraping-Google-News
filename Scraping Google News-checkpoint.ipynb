{
 "cells": [
  {
   "cell_type": "code",
   "execution_count": 2,
   "id": "71b4aa26",
   "metadata": {},
   "outputs": [
    {
     "name": "stdout",
     "output_type": "stream",
     "text": [
      "Defaulting to user installation because normal site-packages is not writeable\n",
      "Requirement already satisfied: scraparazzie in c:\\users\\ivy.chen\\appdata\\roaming\\python\\python39\\site-packages (1.2.7)\n",
      "Requirement already satisfied: lxml in c:\\programdata\\anaconda3\\lib\\site-packages (from scraparazzie) (4.8.0)\n",
      "Requirement already satisfied: beautifulsoup4 in c:\\programdata\\anaconda3\\lib\\site-packages (from scraparazzie) (4.11.1)\n",
      "Requirement already satisfied: requests in c:\\programdata\\anaconda3\\lib\\site-packages (from scraparazzie) (2.27.1)\n",
      "Requirement already satisfied: fuzzywuzzy in c:\\users\\ivy.chen\\appdata\\roaming\\python\\python39\\site-packages (from scraparazzie) (0.18.0)\n",
      "Requirement already satisfied: soupsieve>1.2 in c:\\programdata\\anaconda3\\lib\\site-packages (from beautifulsoup4->scraparazzie) (2.3.1)\n",
      "Requirement already satisfied: urllib3<1.27,>=1.21.1 in c:\\programdata\\anaconda3\\lib\\site-packages (from requests->scraparazzie) (1.26.9)\n",
      "Requirement already satisfied: charset-normalizer~=2.0.0 in c:\\programdata\\anaconda3\\lib\\site-packages (from requests->scraparazzie) (2.0.4)\n",
      "Requirement already satisfied: certifi>=2017.4.17 in c:\\programdata\\anaconda3\\lib\\site-packages (from requests->scraparazzie) (2021.10.8)\n",
      "Requirement already satisfied: idna<4,>=2.5 in c:\\programdata\\anaconda3\\lib\\site-packages (from requests->scraparazzie) (3.3)\n",
      "Defaulting to user installation because normal site-packages is not writeable\n",
      "Requirement already satisfied: levenshtein in c:\\users\\ivy.chen\\appdata\\roaming\\python\\python39\\site-packages (0.20.9)\n",
      "Requirement already satisfied: rapidfuzz<3.0.0,>=2.3.0 in c:\\users\\ivy.chen\\appdata\\roaming\\python\\python39\\site-packages (from levenshtein) (2.13.7)\n"
     ]
    }
   ],
   "source": [
    "!pip install scraparazzie\n",
    "!pip install levenshtein"
   ]
  },
  {
   "cell_type": "code",
   "execution_count": 1,
   "id": "488d6cf2",
   "metadata": {},
   "outputs": [
    {
     "name": "stdout",
     "output_type": "stream",
     "text": [
      "10\n",
      " No. 1: \n",
      " Topic: Advanced Battery Material Recycling Technology\n",
      " Source: AZoM\n",
      " Link: https://news.google.com/__i/rss/rd/articles/CBMiMWh0dHBzOi8vd3d3LmF6b20uY29tL2FydGljbGUuYXNweD9BcnRpY2xlSUQ9MjIzMDDSATVodHRwczovL3d3dy5hem9tLmNvbS9hbXAvYXJ0aWNsZS5hc3B4P0FydGljbGVJRD0yMjMwMA?oc=5\n",
      "Date: Thu, 05 Jan 2023 13:21:00 GMT\n",
      "=====================================================================================================================\n",
      " No. 2: \n",
      " Topic: Outlook on the Zinc-based Battery Global Market to 2028\n",
      " Source: Yahoo Finance\n",
      " Link: https://news.google.com/__i/rss/rd/articles/CBMiT2h0dHBzOi8vZmluYW5jZS55YWhvby5jb20vbmV3cy9vdXRsb29rLXppbmMtYmFzZWQtYmF0dGVyeS1nbG9iYWwtMTIxMzAwNDA2Lmh0bWzSAVdodHRwczovL2ZpbmFuY2UueWFob28uY29tL2FtcGh0bWwvbmV3cy9vdXRsb29rLXppbmMtYmFzZWQtYmF0dGVyeS1nbG9iYWwtMTIxMzAwNDA2Lmh0bWw?oc=5\n",
      "Date: Thu, 05 Jan 2023 12:13:00 GMT\n",
      "=====================================================================================================================\n",
      " No. 3: \n",
      " Topic: Quality Assurance and Sustainability in Lithium-Ion Battery Production\n",
      " Source: Technology Networks\n",
      " Link: https://news.google.com/__i/rss/rd/articles/CBMiggFodHRwczovL3d3dy50ZWNobm9sb2d5bmV0d29ya3MuY29tL2FuYWx5c2lzL2FydGljbGVzL3F1YWxpdHktYXNzdXJhbmNlLWFuZC1zdXN0YWluYWJpbGl0eS1pbi1saXRoaXVtLWlvbi1iYXR0ZXJ5LXByb2R1Y3Rpb24tMzY4Nzkz0gEA?oc=5\n",
      "Date: Thu, 05 Jan 2023 11:28:18 GMT\n",
      "=====================================================================================================================\n",
      " No. 4: \n",
      " Topic: Scientists develop phone battery that charges in eight minutes and ...\n",
      " Source: The First News\n",
      " Link: https://news.google.com/__i/rss/rd/articles/CBMihAFodHRwczovL3d3dy50aGVmaXJzdG5ld3MuY29tL2FydGljbGUvcnplc3pvdy1zY2llbnRpc3RzLWRldmVsb3AtcGhvbmUtYmF0dGVyeS10aGF0LWNoYXJnZXMtaW4tZWlnaHQtbWludXRlcy1hbmQtbGFzdHMtNjgteWVhcnMtMzU1ODjSAQA?oc=5\n",
      "Date: Thu, 05 Jan 2023 11:10:09 GMT\n",
      "=====================================================================================================================\n",
      " No. 5: \n",
      " Topic: Why 2023 is a breakout year for batteries\n",
      " Source: MIT Technology Review\n",
      " Link: https://news.google.com/__i/rss/rd/articles/CBMiXmh0dHBzOi8vd3d3LnRlY2hub2xvZ3lyZXZpZXcuY29tLzIwMjMvMDEvMDUvMTA2NjIyOC93aHktMjAyMy1pcy1hLWJyZWFrb3V0LXllYXItZm9yLWJhdHRlcmllcy_SAWJodHRwczovL3d3dy50ZWNobm9sb2d5cmV2aWV3LmNvbS8yMDIzLzAxLzA1LzEwNjYyMjgvd2h5LTIwMjMtaXMtYS1icmVha291dC15ZWFyLWZvci1iYXR0ZXJpZXMvYW1wLw?oc=5\n",
      "Date: Thu, 05 Jan 2023 11:00:00 GMT\n",
      "=====================================================================================================================\n",
      " No. 6: \n",
      " Topic: Gogoro owns 90% of local battery swapping. Is global ruling next?\n",
      " Source: Electrek\n",
      " Link: https://news.google.com/__i/rss/rd/articles/CBMiVmh0dHBzOi8vZWxlY3RyZWsuY28vMjAyMy8wMS8wNS9nb2dvcm8tYmF0dGVyeS1zd2FwcGluZy1tYXJrZXQtc2hhcmUtZWxlY3RyaWMtc2Nvb3RlcnMv0gEA?oc=5\n",
      "Date: Thu, 05 Jan 2023 11:00:00 GMT\n",
      "=====================================================================================================================\n",
      " No. 7: \n",
      " Topic: Apple hikes price to replace iPhone batteries by $20\n",
      " Source: CBS News\n",
      " Link: https://news.google.com/__i/rss/rd/articles/CBMiSGh0dHBzOi8vd3d3LmNic25ld3MuY29tL25ld3MvYXBwbGUtaXBob25lLWJhdHRlcnktcmVwbGFjZW1lbnQtY29zdC0yMDIzL9IBTGh0dHBzOi8vd3d3LmNic25ld3MuY29tL2FtcC9uZXdzL2FwcGxlLWlwaG9uZS1iYXR0ZXJ5LXJlcGxhY2VtZW50LWNvc3QtMjAyMy8?oc=5\n",
      "Date: Wed, 04 Jan 2023 23:14:36 GMT\n",
      "=====================================================================================================================\n",
      " No. 8: \n",
      " Topic: Apple is raising the price of iPhone battery replacements\n",
      " Source: CNN\n",
      " Link: https://news.google.com/__i/rss/rd/articles/CBMiVmh0dHBzOi8vd3d3LmNubi5jb20vMjAyMy8wMS8wNC90ZWNoL2FwcGxlLWJhdHRlcnktcmVwbGFjZW1lbnQtY29zdC1pbmNyZWFzZS9pbmRleC5odG1s0gFaaHR0cHM6Ly9hbXAuY25uLmNvbS9jbm4vMjAyMy8wMS8wNC90ZWNoL2FwcGxlLWJhdHRlcnktcmVwbGFjZW1lbnQtY29zdC1pbmNyZWFzZS9pbmRleC5odG1s?oc=5\n",
      "Date: Wed, 04 Jan 2023 19:20:00 GMT\n",
      "=====================================================================================================================\n",
      " No. 9: \n",
      " Topic: The Download: the future of batteries, and China’s chips\n",
      " Source: MIT Technology Review\n",
      " Link: https://news.google.com/__i/rss/rd/articles/CBMiWmh0dHBzOi8vd3d3LnRlY2hub2xvZ3lyZXZpZXcuY29tLzIwMjMvMDEvMDQvMTA2NjE3MS9kb3dubG9hZC1mdXR1cmUtYmF0dGVyaWVzLWNoaW5hLWNoaXBzL9IBXmh0dHBzOi8vd3d3LnRlY2hub2xvZ3lyZXZpZXcuY29tLzIwMjMvMDEvMDQvMTA2NjE3MS9kb3dubG9hZC1mdXR1cmUtYmF0dGVyaWVzLWNoaW5hLWNoaXBzL2FtcC8?oc=5\n",
      "Date: Wed, 04 Jan 2023 13:10:00 GMT\n",
      "=====================================================================================================================\n",
      " No. 10: \n",
      " Topic: Apple hikes the price of iPhone battery replacements by $20\n",
      " Source: CNBC\n",
      " Link: https://news.google.com/__i/rss/rd/articles/CBMiT2h0dHBzOi8vd3d3LmNuYmMuY29tLzIwMjMvMDEvMDMvYXBwbGUtaGlrZXMtaXBob25lLWJhdHRlcnktcmVwbGFjZW1lbnRzLTIwLmh0bWzSAVNodHRwczovL3d3dy5jbmJjLmNvbS9hbXAvMjAyMy8wMS8wMy9hcHBsZS1oaWtlcy1pcGhvbmUtYmF0dGVyeS1yZXBsYWNlbWVudHMtMjAuaHRtbA?oc=5\n",
      "Date: Tue, 03 Jan 2023 22:31:23 GMT\n",
      "=====================================================================================================================\n"
     ]
    }
   ],
   "source": [
    "from scraparazzie import scraparazzie\n",
    "client = scraparazzie.NewsClient(language = 'english', location = 'United States', query = 'battery', max_results = 10)\n",
    "\n",
    "items = client.export_news()\n",
    "print(len(items))\n",
    "for i, item in enumerate(items):\n",
    "    print(' No. ' + str(i+1) + ': ')\n",
    "    print(' Topic: ' + item['title'])\n",
    "    print(' Source: ' + item['source'])\n",
    "    print(' Link: ' + item['link'])\n",
    "    print('Date: ' + item['publish_date'])\n",
    "    print('=====================================================================================================================')"
   ]
  },
  {
   "cell_type": "code",
   "execution_count": null,
   "id": "37f22425",
   "metadata": {},
   "outputs": [],
   "source": []
  },
  {
   "cell_type": "code",
   "execution_count": null,
   "id": "8f221c33",
   "metadata": {},
   "outputs": [],
   "source": []
  }
 ],
 "metadata": {
  "kernelspec": {
   "display_name": "Python 3 (ipykernel)",
   "language": "python",
   "name": "python3"
  },
  "language_info": {
   "codemirror_mode": {
    "name": "ipython",
    "version": 3
   },
   "file_extension": ".py",
   "mimetype": "text/x-python",
   "name": "python",
   "nbconvert_exporter": "python",
   "pygments_lexer": "ipython3",
   "version": "3.9.12"
  }
 },
 "nbformat": 4,
 "nbformat_minor": 5
}
